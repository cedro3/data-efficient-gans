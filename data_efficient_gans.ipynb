{
  "nbformat": 4,
  "nbformat_minor": 0,
  "metadata": {
    "colab": {
      "name": "data-efficient-gans",
      "provenance": [],
      "collapsed_sections": [],
      "include_colab_link": true
    },
    "kernelspec": {
      "name": "python3",
      "display_name": "Python 3"
    },
    "accelerator": "GPU"
  },
  "cells": [
    {
      "cell_type": "markdown",
      "metadata": {
        "id": "view-in-github",
        "colab_type": "text"
      },
      "source": [
        "<a href=\"https://colab.research.google.com/github/cedro3/data-efficient-gans/blob/master/data_efficient_gans.ipynb\" target=\"_parent\"><img src=\"https://colab.research.google.com/assets/colab-badge.svg\" alt=\"Open In Colab\"/></a>"
      ]
    },
    {
      "cell_type": "markdown",
      "metadata": {
        "id": "KZb8pDhKRxcS",
        "colab_type": "text"
      },
      "source": [
        "# Data-Efficient GANs with DiffAugment\n"
      ]
    },
    {
      "cell_type": "markdown",
      "metadata": {
        "id": "A4MvOMh1BNef",
        "colab_type": "text"
      },
      "source": [
        "## セットアップ\n",
        "\n"
      ]
    },
    {
      "cell_type": "code",
      "metadata": {
        "id": "EqqY49pVYDqg",
        "colab_type": "code",
        "colab": {}
      },
      "source": [
        "# Githubからコードをコピー\n",
        "!git clone https://github.com/cedro3/data-efficient-gans.git"
      ],
      "execution_count": null,
      "outputs": []
    },
    {
      "cell_type": "code",
      "metadata": {
        "id": "LrAfOXD5Y9Tt",
        "colab_type": "code",
        "colab": {}
      },
      "source": [
        "# ディレクトリをDiffAugment-stylegan2に移動\n",
        "cd data-efficient-gans/DiffAugment-stylegan2"
      ],
      "execution_count": null,
      "outputs": []
    },
    {
      "cell_type": "code",
      "metadata": {
        "id": "HsOIKc9ad3Ek",
        "colab_type": "code",
        "colab": {}
      },
      "source": [
        "# Google drive から新垣結衣画像と学習済みの重みをダウンロード\n",
        "import requests\n",
        "import sys\n",
        "import os\n",
        "import zipfile\n",
        "\n",
        "def download_file_from_google_drive(id, destination):\n",
        "\n",
        "       # ダウンロード画面のURL\n",
        "       URL = \"https://drive.google.com/uc?id=1rlmCCuLH4euzIwzqlYh8LiF5iizh5UWV&export=download\" \n",
        "\n",
        "       session = requests.Session()\n",
        "\n",
        "       response = session.get(URL, params = { 'id' : id }, stream = True)\n",
        "       token = get_confirm_token(response)\n",
        "\n",
        "       if token:\n",
        "           params = { 'id' : id, 'confirm' : token }\n",
        "           response = session.get(URL, params = params, stream = True)\n",
        "\n",
        "       save_response_content(response, destination)    \n",
        "\n",
        "def get_confirm_token(response):\n",
        "       for key, value in response.cookies.items():\n",
        "           if key.startswith('download_warning'):\n",
        "               return value\n",
        "\n",
        "       return None\n",
        "\n",
        "def save_response_content(response, destination):\n",
        "       CHUNK_SIZE = 32768\n",
        "\n",
        "       with open(destination, \"wb\") as f:\n",
        "           for chunk in response.iter_content(CHUNK_SIZE):\n",
        "               if chunk: # filter out keep-alive new chunks\n",
        "                   f.write(chunk)\n",
        "\n",
        "if __name__ == \"__main__\":\n",
        "\n",
        "       file_id = 'TAKE ID FROM SHAREABLE LINK' \n",
        "       destination = './yui.zip'  # 保存先パスの指定\n",
        "       download_file_from_google_drive(file_id, destination)\n",
        "\n",
        "       # zipファイル解凍\n",
        "       zipf = zipfile.ZipFile('./yui.zip')\n",
        "       zipf.extractall()\n",
        "       zipf.close()"
      ],
      "execution_count": null,
      "outputs": []
    },
    {
      "cell_type": "code",
      "metadata": {
        "id": "Re5R6VX8VNgo",
        "colab_type": "code",
        "colab": {}
      },
      "source": [
        "# 指定のtensorflow1.15.0をインストールし、必要な関数を定義\n",
        "!pip uninstall -y tensorflow tensorflow-probability\n",
        "!pip install tensorflow-gpu==1.15.0\n",
        "\n",
        "import tensorflow as tf\n",
        "import os\n",
        "import numpy as np\n",
        "import PIL\n",
        "import IPython\n",
        "from multiprocessing import Pool\n",
        "import matplotlib.pyplot as plt\n",
        "\n",
        "from dnnlib import tflib, EasyDict\n",
        "from training import misc, dataset_tool\n",
        "from metrics import metric_base\n",
        "from metrics.metric_defaults import metric_defaults\n",
        "\n",
        "def _generate(network_name, num_rows, num_cols, seed, resolution):\n",
        "  if seed is not None:\n",
        "    np.random.seed(seed)\n",
        "  with tf.Session():\n",
        "    _, _, Gs = misc.load_pkl(network_name)\n",
        "    z = np.random.randn(num_rows * num_cols, Gs.input_shape[1])\n",
        "    outputs = Gs.run(z, None, output_transform=dict(func=tflib.convert_images_to_uint8, nchw_to_nhwc=True))\n",
        "    outputs = np.reshape(outputs, [num_rows, num_cols, *outputs.shape[1:]])\n",
        "    outputs = np.concatenate(outputs, axis=1)\n",
        "    outputs = np.concatenate(outputs, axis=1)\n",
        "    img = PIL.Image.fromarray(outputs)\n",
        "    img = img.resize((resolution * num_cols, resolution * num_rows), PIL.Image.ANTIALIAS)\n",
        "  return img\n",
        "\n",
        "def generate(network_name, num_rows, num_cols, seed=None, resolution=128):\n",
        "  with Pool(1) as pool:\n",
        "    return pool.apply(_generate, (network_name, num_rows, num_cols, seed, resolution))"
      ],
      "execution_count": null,
      "outputs": []
    },
    {
      "cell_type": "markdown",
      "metadata": {
        "id": "ObOQUWb9jEu-",
        "colab_type": "text"
      },
      "source": [
        "# データセットの作成\n",
        "64×64の画像100枚からtfrecords形式のデータセットを作成します。\\"
      ]
    },
    {
      "cell_type": "code",
      "metadata": {
        "id": "emaQzEznPWYt",
        "colab_type": "code",
        "colab": {}
      },
      "source": [
        "# 100-shot-gakki を読み込み学習用データセットを作成\n",
        "data_dir = dataset_tool.create_dataset('100-shot-gakki')\n",
        "training_images = []\n",
        "for fname in os.listdir(data_dir):\n",
        "  if fname.endswith('.jpg'):\n",
        "    training_images.append(np.array(PIL.Image.open(os.path.join(data_dir, fname))))\n",
        "imgs = np.reshape(training_images, [5, 20, *training_images[0].shape])\n",
        "imgs = np.concatenate(imgs, axis=1)\n",
        "imgs = np.concatenate(imgs, axis=1)\n",
        "PIL.Image.fromarray(imgs).resize((1000, 250), PIL.Image.ANTIALIAS)"
      ],
      "execution_count": null,
      "outputs": []
    },
    {
      "cell_type": "markdown",
      "metadata": {
        "id": "O4YdmLWDyRzP",
        "colab_type": "text"
      },
      "source": [
        "# 学習の実行\n",
        "学習時間は、割り当てられているGPUによって異なります。下記を参考にして下さい。\\\n",
        "K80 :  \n",
        "P100 : 7.3H (kimg=300)\\\n",
        "V100 : 4.1H (kimg=300)\\\n",
        "\\\n",
        "※学習に時間を掛けたくない方は、kimg=500で学習した重みがありますので、ここはパスでOKです。"
      ]
    },
    {
      "cell_type": "code",
      "metadata": {
        "id": "JC9zsb4XvIU8",
        "colab_type": "code",
        "colab": {}
      },
      "source": [
        "# GPUの確認\n",
        "!nvidia-smi"
      ],
      "execution_count": null,
      "outputs": []
    },
    {
      "cell_type": "code",
      "metadata": {
        "id": "ywR-TqhzY01I",
        "colab_type": "code",
        "colab": {}
      },
      "source": [
        "# 学習の実行\n",
        "!python3 run_few_shot.py --dataset=100-shot-gakki --resolution=64 --total-kimg=300"
      ],
      "execution_count": null,
      "outputs": []
    },
    {
      "cell_type": "markdown",
      "metadata": {
        "id": "PXXzNi5N1ZJ1",
        "colab_type": "text"
      },
      "source": [
        "# 学習済みの重みを使う\n",
        "実際に学習を行った場合は、resultsフォルダーの1段下に重み( network-snapshot-XXXXXX.pkl)が作成されますので、それをDiffAugment-stylegan2のディレクトリーに移動して下さい。\\\n",
        "そして、**generate() , generate_gif.py** の引数をそのファイル名に変更して下さい。\\\n",
        "\\"
      ]
    },
    {
      "cell_type": "code",
      "metadata": {
        "id": "riefZb82lhTH",
        "colab_type": "code",
        "colab": {}
      },
      "source": [
        "# 学習済みの重みを使って画像生成\n",
        "generate('network-snapshot-gakki-000500.pkl', num_rows=2, num_cols=5, seed=3)"
      ],
      "execution_count": null,
      "outputs": []
    },
    {
      "cell_type": "code",
      "metadata": {
        "id": "S9Q7bwdKvws9",
        "colab_type": "code",
        "colab": {}
      },
      "source": [
        "# 学習済みの重みを使って、GIF動画 (interp.gif) を作成\n",
        "!python3 generate_gif.py -r network-snapshot-gakki-000500.pkl -o interp.gif --num-rows=2 --num-cols=3 --seed=1\n",
        "IPython.display.Image(open('interp.gif', 'rb').read())"
      ],
      "execution_count": null,
      "outputs": []
    }
  ]
}